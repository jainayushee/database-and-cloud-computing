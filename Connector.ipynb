{
 "cells": [
  {
   "cell_type": "code",
   "execution_count": 97,
   "metadata": {},
   "outputs": [],
   "source": [
    "import mysql.connector\n",
    "def closeConnection(mycursor, mydb):\n",
    "    mycursor.close()\n",
    "    mydb.close()"
   ]
  },
  {
   "cell_type": "code",
   "execution_count": 98,
   "metadata": {},
   "outputs": [],
   "source": [
    "def retreiveAllProducts():\n",
    "    mydb = mysql.connector.connect(host=\"localhost\", user=\"root\", passwd=\"password\",\n",
    "                               charset=\"utf8\")\n",
    "    mycursor = mydb.cursor()\n",
    "    product_ids = []\n",
    "    mycursor.execute(\"USE shopdb\")\n",
    "    mycursor.execute(\"SELECT product_id FROM product\")\n",
    "    for x in mycursor.fetchall():\n",
    "        product_ids.append(x[0])\n",
    "\n",
    "    print(product_ids)\n",
    "    closeConnection(mycursor, mydb)"
   ]
  },
  {
   "cell_type": "code",
   "execution_count": 99,
   "metadata": {},
   "outputs": [],
   "source": [
    "def retreiveProduct(id):\n",
    "    mydb = mysql.connector.connect(host=\"localhost\", user=\"root\", passwd=\"password\",\n",
    "                               charset=\"utf8\")\n",
    "    mycursor = mydb.cursor()\n",
    "    mycursor.execute(\"USE shopdb\")\n",
    "    mycursor.execute(\"SELECT * FROM product WHERE product_id=%s\", (id,))\n",
    "    for x in mycursor.fetchall():\n",
    "        print(x)\n",
    "    closeConnection(mycursor, mydb)    "
   ]
  },
  {
   "cell_type": "code",
   "execution_count": 100,
   "metadata": {},
   "outputs": [
    {
     "name": "stdout",
     "output_type": "stream",
     "text": [
      "[1, 2, 8, 9, 14, 16, 17, 5, 7, 13, 15, 3, 6, 12, 4, 10, 11]\n"
     ]
    }
   ],
   "source": [
    "retreiveAllProducts()"
   ]
  },
  {
   "cell_type": "code",
   "execution_count": 101,
   "metadata": {},
   "outputs": [
    {
     "name": "stdout",
     "output_type": "stream",
     "text": [
      "(2, 'Monitor 15\"', 625.0, 1)\n"
     ]
    }
   ],
   "source": [
    "retreiveProduct(2)"
   ]
  },
  {
   "cell_type": "code",
   "execution_count": 104,
   "metadata": {},
   "outputs": [],
   "source": [
    "def insertProduct(name, price, sid):\n",
    "    mydb = mysql.connector.connect(host=\"localhost\", user=\"root\", passwd=\"password\",\n",
    "                               charset=\"utf8\")\n",
    "    mycursor = mydb.cursor()\n",
    "    mycursor.execute(\"USE shopdb\")\n",
    "    mycursor.execute(\"Select max(Product_id) from product\")\n",
    "    record = mycursor.fetchone()\n",
    "    max = int(record[0]) + 1\n",
    "    print(max)\n",
    "    # query = \"INSERT INTO product VALUES (%s,%s,%s,%s)\"\n",
    "    query = 'INSERT INTO product VALUES ('+str(max) +',\"' + name + '\",' + str(price) + \",\" + str(sid) + \")\"\n",
    "    print(query)\n",
    "    mycursor.execute(query)\n",
    "    mydb.commit()\n",
    "    closeConnection(mycursor, mydb)"
   ]
  },
  {
   "cell_type": "code",
   "execution_count": 105,
   "metadata": {},
   "outputs": [
    {
     "name": "stdout",
     "output_type": "stream",
     "text": [
      "19\n",
      "INSERT INTO product VALUES (19,\"Temp\",999,1)\n"
     ]
    }
   ],
   "source": [
    "insertProduct(\"Temp\", 999, 1)"
   ]
  }
 ],
 "metadata": {
  "kernelspec": {
   "display_name": ".venv",
   "language": "python",
   "name": "python3"
  },
  "language_info": {
   "codemirror_mode": {
    "name": "ipython",
    "version": 3
   },
   "file_extension": ".py",
   "mimetype": "text/x-python",
   "name": "python",
   "nbconvert_exporter": "python",
   "pygments_lexer": "ipython3",
   "version": "3.11.4"
  }
 },
 "nbformat": 4,
 "nbformat_minor": 2
}
